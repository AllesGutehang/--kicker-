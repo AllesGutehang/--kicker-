{
 "cells": [
  {
   "cell_type": "code",
   "execution_count": 1,
   "metadata": {},
   "outputs": [],
   "source": [
    "import requests\n",
    "from bs4 import BeautifulSoup\n",
    "from lxml import etree\n",
    "import re\n",
    "import openpyxl\n",
    "import time"
   ]
  },
  {
   "cell_type": "code",
   "execution_count": 2,
   "metadata": {},
   "outputs": [
    {
     "name": "stdout",
     "output_type": "stream",
     "text": [
      "['2000-01', '2001-02', '2002-03', '2003-04', '2004-05', '2005-06', '2006-07', '2007-08', '2008-09', '2009-10', '2010-11', '2011-12', '2012-13', '2013-14', '2014-15', '2015-16', '2016-17', '2017-18', '2018-19']\n"
     ]
    }
   ],
   "source": [
    "#赛季列表\n",
    "season_list=[]\n",
    "for s_year in range(2000,2019):\n",
    "    e_year=str(s_year+1)[-2:]\n",
    "    season_list.append(str(s_year)+'-'+e_year)\n",
    "print(season_list)\n"
   ]
  },
  {
   "cell_type": "code",
   "execution_count": 3,
   "metadata": {},
   "outputs": [],
   "source": [
    "#获取赛季总览页面\n",
    "main_url='https://www.kicker.de'\n",
    "tabelle_url='https://www.kicker.de/1-bundesliga/tabelle/'\n",
    "headers={'User-Agent':'Mozilla/5.0 (Windows NT 6.1; WOW64) AppleWebKit/537.36 (KHTML, like Gecko) Chrome/63.0.3239.132 Safari/537.36 QIHU 360SE'}\n",
    "def get_html(main_url,tabelle_url,season_num):\n",
    "    #headers={'User-Agent':'Mozilla/5.0 (Windows NT 6.1; WOW64) AppleWebKit/537.36 (KHTML, like Gecko) Chrome/63.0.3239.132 Safari/537.36 QIHU 360SE'}\n",
    "    data=requests.get(tabelle_url+season_num,headers=headers)\n",
    "    element=etree.HTML(data.text)\n",
    "    return element"
   ]
  },
  {
   "cell_type": "code",
   "execution_count": 4,
   "metadata": {},
   "outputs": [],
   "source": [
    "#获取俱乐部url\n",
    "def get_club_url(element):\n",
    "    club_url=element.xpath('//td[@class=\"kick__table--ranking__teamname kick__table--ranking__index kick__t__a__l kick__respt-m-o-4 kick__respt-m-w-120 kick__t__a__l\"]/a[1]/@href')\n",
    "    for i in range(0,len(club_url)):\n",
    "        club_url[i]=main_url+club_url[i].replace('/info/','/kader/')#将info替换为kader，并接在main_url后面\n",
    "    return club_url\n",
    "    "
   ]
  },
  {
   "cell_type": "code",
   "execution_count": 5,
   "metadata": {},
   "outputs": [],
   "source": [
    "#获取球员url和所属俱乐部\n",
    "def get_player_url(club):\n",
    "    data=requests.get(club,headers=headers)\n",
    "    element=etree.HTML(data.text)\n",
    "    club_name=element.xpath('//title/text()')[0].split(' | ')[0]\n",
    "    player_url=element.xpath('//td[@class=\"kick__table--ranking__index kick__t__a__l kick__respt-m-w-190\"]/a/@href')\n",
    "    for i in range(0,len(player_url)):\n",
    "        player_url[i]=main_url+player_url[i]\n",
    "    return club_name,player_url"
   ]
  },
  {
   "cell_type": "code",
   "execution_count": 6,
   "metadata": {},
   "outputs": [],
   "source": [
    "#获取球员名字\n",
    "def get_player_name(player):\n",
    "    data=requests.get(player,headers=headers)\n",
    "    time.sleep(0.5)\n",
    "    soup=BeautifulSoup(data.text,'lxml')\n",
    "    player_name=soup.title.get_text().split(' | ')[0]\n",
    "    return soup,player_name\n"
   ]
  },
  {
   "cell_type": "code",
   "execution_count": 7,
   "metadata": {},
   "outputs": [],
   "source": [
    "#获取球员基本信息\n",
    "def get_player_info(soup,rank,club_name,player_name):\n",
    "    p_info_content=soup.find('table',attrs={'class':'kick__table--per-data kick__table--per-info'})\n",
    "    p_info_formal=str(p_info_content).replace(' ','').replace('\\r','').replace('\\n','')#去除空格和换行符\n",
    "    #球员信息的正则表达式\n",
    "    birth_re='Geborenam</td><td>([0-9]{2}.[0-9]{2}.[0-9]{4})<'\n",
    "    pos_re='Position</td><td>(.+?)</td>'\n",
    "    height_re='Größe</td><td>([0-9]{3})cm'\n",
    "    weight_re='Gewicht</td><td>([0-9]+)kg'\n",
    "    nation_re='png\"/></span>(.+?)</td>'\n",
    "    birth=re.compile(birth_re).findall(p_info_formal)\n",
    "    pos=re.compile(pos_re).findall(p_info_formal)\n",
    "    height=re.compile(height_re).findall(p_info_formal)\n",
    "    weight=re.compile(weight_re).findall(p_info_formal)\n",
    "    nation=re.compile(nation_re).findall(p_info_formal)\n",
    "    p_info_1=[birth,pos,height,weight,nation]\n",
    "    p_info_1=[p[0] if p !=[] else '' for p in p_info_1]\n",
    "    p_info=[rank,club_name,player_name]\n",
    "    p_info.extend(p_info_1)\n",
    "    #p_info_sum.append(p_info)\n",
    "    return p_info"
   ]
  },
  {
   "cell_type": "code",
   "execution_count": 8,
   "metadata": {},
   "outputs": [],
   "source": [
    "#获取指定赛季的球员数据url\n",
    "def get_tar_season(soup,season_num,main_url):\n",
    "    tar_season=season_num.replace('-','/')\n",
    "    season_select=soup.find('select',attrs={'class':'kick__head-dropdown__select'})\n",
    "    season_select_formal=str(season_select).replace(' ','').replace('\\r','').replace('\\n','')\n",
    "    season_re='value=\"([^<]+)\">'+tar_season\n",
    "    season_url=re.compile(season_re).findall(season_select_formal)\n",
    "    tar_season_url=main_url+season_url[0]\n",
    "    return tar_season_url\n",
    "    "
   ]
  },
  {
   "cell_type": "code",
   "execution_count": 14,
   "metadata": {},
   "outputs": [],
   "source": [
    "#获取球员比赛数据\n",
    "def get_game_data(tar_season_url):\n",
    "    data=requests.get(tar_season_url,headers=headers)\n",
    "    soup=BeautifulSoup(data.text,'lxml')\n",
    "    g_info=soup.find('tr',attrs={'class':'kick__js-open-saison-detail'})\n",
    "    g_info_formal=str(g_info).replace(' ','').replace('\\r','').replace('\\n','')\n",
    "    g_data_re='>([0-9,/-]+)</td'\n",
    "    g_data=re.compile(g_data_re).findall(g_info_formal)\n",
    "    return g_data"
   ]
  },
  {
   "cell_type": "markdown",
   "metadata": {},
   "source": [
    "## 调度"
   ]
  },
  {
   "cell_type": "code",
   "execution_count": 18,
   "metadata": {},
   "outputs": [
    {
     "name": "stdout",
     "output_type": "stream",
     "text": [
      "Bayern München\n",
      "FC Schalke 04\n",
      "TSG Hoffenheim\n",
      "Borussia Dortmund\n",
      "Bayer 04 Leverkusen\n",
      "RB Leipzig\n",
      "VfB Stuttgart\n",
      "Eintracht Frankfurt\n",
      "Bor. Mönchengladbach\n",
      "Hertha BSC\n",
      "Werder Bremen\n",
      "FC Augsburg\n",
      "Hannover 96\n",
      "1. FSV Mainz 05\n",
      "SC Freiburg\n",
      "VfL Wolfsburg\n",
      "Hamburger SV\n",
      "1. FC Köln\n",
      "484\n",
      "[18, '1. FC Köln', 'Simon Zoller', '26.06.1991', 'Sturm', '179', '73', 'Deutschland', '17/14', '4,25', '2', '0/0', '1', '3', '5', '8', '3', '0', '0']\n"
     ]
    }
   ],
   "source": [
    "main_url='https://www.kicker.de'\n",
    "tabelle_url='https://www.kicker.de/1-bundesliga/tabelle/'\n",
    "for season_num in season_list[-2,-1]:\n",
    "    sum_info=[]\n",
    "    element=get_html(main_url,tabelle_url,season_num)\n",
    "    club_url=get_club_url(element)\n",
    "    rank=1\n",
    "    for club in club_url:\n",
    "        club_name,player_url=get_player_url(club)\n",
    "        #print(club_name)\n",
    "        for player in player_url:\n",
    "            soup,player_name=get_player_name(player)\n",
    "            p_info=get_player_info(soup,rank,club_name,player_name)\n",
    "            tar_season_url=get_tar_season(soup,season_num,main_url)\n",
    "            g_data=get_game_data(tar_season_url)\n",
    "            p_info.extend(g_data)\n",
    "            #print(p_info[2])\n",
    "            sum_info.append(p_info)\n",
    "        rank+=1\n",
    "print(len(sum_info))\n",
    "print(sum_info[-1])            \n",
    "        "
   ]
  },
  {
   "cell_type": "markdown",
   "metadata": {},
   "source": [
    "## 调整插入Excel的数据格式"
   ]
  },
  {
   "cell_type": "code",
   "execution_count": 19,
   "metadata": {},
   "outputs": [
    {
     "name": "stdout",
     "output_type": "stream",
     "text": [
      "[18, '1. FC Köln', 'Simon Zoller', 1991, 'Sturm', 179, 73, 'Deutschland', ['17', '14'], 4.25, '2', ['0', '0'], '1', '3', '5', '8', '3', '0', '0']\n"
     ]
    }
   ],
   "source": [
    "for p_info in sum_info:\n",
    "    #print(p_info)\n",
    "    for field in p_info:\n",
    "        if p_info.index(field)==3:\n",
    "            p_info[3]=int(field[-4:])\n",
    "        elif (p_info.index(field)==5) & (field!=''):\n",
    "            p_info[5]=int(field)\n",
    "        elif (p_info.index(field)==6) & (field!=''):\n",
    "            p_info[6]=int(field)\n",
    "        elif p_info.index(field)==8:\n",
    "            p_info[8]=field.split('/')\n",
    "        elif (p_info.index(field)==9) & (field!='-'):\n",
    "            p_info[9]=float(field.replace(',','.'))\n",
    "        elif p_info.index(field)==11:\n",
    "            p_info[11]=field.split('/')\n",
    "print(sum_info[-1])"
   ]
  },
  {
   "cell_type": "markdown",
   "metadata": {},
   "source": [
    "## 插入excel"
   ]
  },
  {
   "cell_type": "code",
   "execution_count": 20,
   "metadata": {},
   "outputs": [],
   "source": [
    "target_filepath='G:\\研二\\kicker数据 - 副本.xlsx'\n",
    "data=openpyxl.load_workbook(target_filepath)\n",
    "excel=data['2017-18']"
   ]
  },
  {
   "cell_type": "code",
   "execution_count": 21,
   "metadata": {},
   "outputs": [],
   "source": [
    "i=2\n",
    "for p_info in sum_info:\n",
    "    excel.cell(row=i,column=1,value=p_info[0])\n",
    "    excel.cell(row=i,column=2,value=p_info[1])\n",
    "    excel.cell(row=i,column=3,value=p_info[2])\n",
    "    excel.cell(row=i,column=4,value=p_info[3])\n",
    "    excel.cell(row=i,column=5,value=p_info[4])\n",
    "    excel.cell(row=i,column=6,value=p_info[5])\n",
    "    excel.cell(row=i,column=7,value=p_info[6])\n",
    "    excel.cell(row=i,column=8,value=p_info[7])\n",
    "    excel.cell(row=i,column=9,value=p_info[8][0])\n",
    "    excel.cell(row=i,column=10,value=p_info[8][1])\n",
    "    excel.cell(row=i,column=11,value=p_info[9])\n",
    "    excel.cell(row=i,column=12,value=p_info[10])\n",
    "    excel.cell(row=i,column=13,value=p_info[11][0])\n",
    "    excel.cell(row=i,column=14,value=p_info[11][1])\n",
    "    excel.cell(row=i,column=15,value=p_info[12])\n",
    "    excel.cell(row=i,column=16,value=p_info[13])\n",
    "    excel.cell(row=i,column=17,value=p_info[14])\n",
    "    excel.cell(row=i,column=18,value=p_info[15])\n",
    "    excel.cell(row=i,column=19,value=p_info[16])\n",
    "    excel.cell(row=i,column=20,value=p_info[17])\n",
    "    excel.cell(row=i,column=21,value=p_info[18])\n",
    "    i+=1"
   ]
  },
  {
   "cell_type": "code",
   "execution_count": 22,
   "metadata": {},
   "outputs": [],
   "source": [
    "data.save(target_filepath)"
   ]
  }
 ],
 "metadata": {
  "kernelspec": {
   "display_name": "Python 3",
   "language": "python",
   "name": "python3"
  },
  "language_info": {
   "codemirror_mode": {
    "name": "ipython",
    "version": 3
   },
   "file_extension": ".py",
   "mimetype": "text/x-python",
   "name": "python",
   "nbconvert_exporter": "python",
   "pygments_lexer": "ipython3",
   "version": "3.7.6"
  }
 },
 "nbformat": 4,
 "nbformat_minor": 4
}
